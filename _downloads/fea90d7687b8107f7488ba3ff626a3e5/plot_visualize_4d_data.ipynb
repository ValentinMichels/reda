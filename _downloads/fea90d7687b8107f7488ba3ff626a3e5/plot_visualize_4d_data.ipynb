{
  "cells": [
    {
      "cell_type": "code",
      "execution_count": null,
      "metadata": {
        "collapsed": false
      },
      "outputs": [],
      "source": [
        "%matplotlib inline"
      ]
    },
    {
      "cell_type": "markdown",
      "metadata": {},
      "source": [
        "\nVisualizing multi-dimensional sEIT data\n---------------------------------------\n\nThis is work in progress\n\n"
      ]
    },
    {
      "cell_type": "markdown",
      "metadata": {},
      "source": [
        "imports\n\n"
      ]
    },
    {
      "cell_type": "code",
      "execution_count": null,
      "metadata": {
        "collapsed": false
      },
      "outputs": [],
      "source": [
        "import os\n\nimport numpy as np\n\nimport reda"
      ]
    },
    {
      "cell_type": "markdown",
      "metadata": {},
      "source": [
        "load the data set\n\n"
      ]
    },
    {
      "cell_type": "code",
      "execution_count": null,
      "metadata": {
        "collapsed": false
      },
      "outputs": [],
      "source": [
        "seit = reda.sEIT()\nfor nr in range(0, 4):\n    seit.import_crtomo(\n        directory='data_synthetic_4d/modV_0{}_noisy/'.format(nr),\n        timestep=nr\n    )\nseit.compute_K_analytical(spacing=1)"
      ]
    },
    {
      "cell_type": "markdown",
      "metadata": {},
      "source": [
        "Plotting pseudosections\n\n"
      ]
    },
    {
      "cell_type": "code",
      "execution_count": null,
      "metadata": {
        "collapsed": false
      },
      "outputs": [],
      "source": [
        "with reda.CreateEnterDirectory('output_visualize_4d'):\n    pass\n    print(\n        'at this point the plotting routines do not honor'\n        ' timestep dimensionality'\n    )"
      ]
    },
    {
      "cell_type": "markdown",
      "metadata": {},
      "source": [
        "Histograms\n\n"
      ]
    },
    {
      "cell_type": "code",
      "execution_count": null,
      "metadata": {
        "collapsed": false
      },
      "outputs": [],
      "source": [
        "import reda.plotters.histograms as redaH\n# just used to close the figures to save memory\nimport pylab as plt\n\n\nwith reda.CreateEnterDirectory('output_visualize_4d'):\n    # plot frequencies in one plot\n    name, figs = seit.plot_histograms('rho_a', 'frequency')\n    for ts, fig in sorted(figs.items()):\n        fig.savefig(name + '_lin_{}.jpg'.format(ts), dpi=300)\n        plt.close(fig)\n\n    # plot in log10 representation\n    name, figs = seit.plot_histograms('rho_a', 'frequency', log10=True)\n    for ts, fig in sorted(figs.items()):\n        fig.savefig(name + '_log10_{}.jpg'.format(ts), dpi=300)\n        plt.close(fig)\n\n    name, figs = seit.plot_histograms('rho_a', 'timestep')\n    # plot only each third plot\n    for ts, fig in sorted(figs.items())[0::3]:\n        fig.savefig(name + '_{}.jpg'.format(ts), dpi=300)\n        plt.close(fig)"
      ]
    }
  ],
  "metadata": {
    "kernelspec": {
      "display_name": "Python 3",
      "language": "python",
      "name": "python3"
    },
    "language_info": {
      "codemirror_mode": {
        "name": "ipython",
        "version": 3
      },
      "file_extension": ".py",
      "mimetype": "text/x-python",
      "name": "python",
      "nbconvert_exporter": "python",
      "pygments_lexer": "ipython3",
      "version": "3.6.3"
    }
  },
  "nbformat": 4,
  "nbformat_minor": 0
}