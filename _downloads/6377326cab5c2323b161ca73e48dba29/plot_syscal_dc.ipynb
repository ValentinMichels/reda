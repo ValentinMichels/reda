{
  "cells": [
    {
      "cell_type": "code",
      "execution_count": null,
      "metadata": {
        "collapsed": false
      },
      "outputs": [],
      "source": [
        "%matplotlib inline"
      ]
    },
    {
      "cell_type": "markdown",
      "metadata": {},
      "source": [
        "\nImporting Syscal ERT data\n=========================\n\n\n"
      ]
    },
    {
      "cell_type": "code",
      "execution_count": null,
      "metadata": {
        "collapsed": false
      },
      "outputs": [],
      "source": [
        "import reda\ncontainer = reda.ERT()\n\ncontainer.import_syscal_txt('data_syscal_ert/data_normal.txt')\ncontainer.import_syscal_txt(\n    'data_syscal_ert/data_reciprocal.txt', reciprocals=48)\n\nimport reda.utils.geometric_factors as edfK\nK = edfK.compute_K_analytical(container.data, spacing=0.25)\nedfK.apply_K(container.data, K)\n\nimport reda.plotters as plotters\nplotters.histograms.plot_histograms(container, ['r', 'rho_a', 'Iab', ])"
      ]
    }
  ],
  "metadata": {
    "kernelspec": {
      "display_name": "Python 3",
      "language": "python",
      "name": "python3"
    },
    "language_info": {
      "codemirror_mode": {
        "name": "ipython",
        "version": 3
      },
      "file_extension": ".py",
      "mimetype": "text/x-python",
      "name": "python",
      "nbconvert_exporter": "python",
      "pygments_lexer": "ipython3",
      "version": "3.6.3"
    }
  },
  "nbformat": 4,
  "nbformat_minor": 0
}