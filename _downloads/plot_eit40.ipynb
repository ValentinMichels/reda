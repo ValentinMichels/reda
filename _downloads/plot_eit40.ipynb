{
  "cells": [
    {
      "cell_type": "code",
      "execution_count": null,
      "metadata": {
        "collapsed": false
      },
      "outputs": [],
      "source": [
        "%matplotlib inline"
      ]
    },
    {
      "cell_type": "markdown",
      "metadata": {},
      "source": [
        "\nImporting EIT40/EIT160 data\n===========================\n\n<div class=\"alert alert-danger\"><h4>Warning</h4><p>This example requires the installation of crtomo-tools, as well as a\n    working installation of CRTomo.</p></div>\n\nThe configs.dat file contains the four-point spreads to be imported from the\nmeasurement. This file is a text file with four columns (A, B, M, N),\nseparated by spaces or tabs. Each line denotes one measurement: ::\n\n    1   2   4   3\n    2   3   5   6\n\n\n"
      ]
    },
    {
      "cell_type": "markdown",
      "metadata": {},
      "source": [
        "Import reda\n\n"
      ]
    },
    {
      "cell_type": "code",
      "execution_count": null,
      "metadata": {
        "collapsed": false
      },
      "outputs": [],
      "source": [
        "import reda"
      ]
    },
    {
      "cell_type": "markdown",
      "metadata": {},
      "source": [
        "Initialize an sEIT container\n\n"
      ]
    },
    {
      "cell_type": "code",
      "execution_count": null,
      "metadata": {
        "collapsed": false
      },
      "outputs": [],
      "source": [
        "seit = reda.sEIT()\n\n# Import the data\nseit.import_eit160(\n    filename='data_EIT40_v_EZ-2017/eit_data_mnu0.mat',\n    configfile='data_EIT40_v_EZ-2017/configs_large_dipoles_norrec.dat'\n)"
      ]
    },
    {
      "cell_type": "markdown",
      "metadata": {},
      "source": [
        "Compute geometric factors\n\n"
      ]
    },
    {
      "cell_type": "code",
      "execution_count": null,
      "metadata": {
        "collapsed": false
      },
      "outputs": [],
      "source": [
        "import reda.utils.geometric_factors as redaK\nimport reda.utils.fix_sign_with_K as redafixK\n\nK = redaK.compute_K_analytical(seit.data, spacing=0.25)\nredaK.apply_K(seit.data, K)\nredafixK.fix_sign_with_K(seit.data)"
      ]
    },
    {
      "cell_type": "markdown",
      "metadata": {},
      "source": [
        "Compute normal and reciprocal pairs\n\n"
      ]
    },
    {
      "cell_type": "code",
      "execution_count": null,
      "metadata": {
        "collapsed": false
      },
      "outputs": [],
      "source": [
        "import reda.utils.norrec as norrec\nseit.data = norrec.assign_norrec_to_df(seit.data)"
      ]
    },
    {
      "cell_type": "markdown",
      "metadata": {},
      "source": [
        "filter data\n\n"
      ]
    },
    {
      "cell_type": "code",
      "execution_count": null,
      "metadata": {
        "collapsed": false
      },
      "outputs": [],
      "source": [
        "seit.remove_frequencies(1e-3, 300)\nseit.query('rpha < 10')\nseit.query('rpha > -40')\nseit.query('rho_a > 15 and rho_a < 35')\nseit.query('K < 400')"
      ]
    },
    {
      "cell_type": "markdown",
      "metadata": {},
      "source": [
        "Plotting histograms\nRaw data plots (execute before applying the filters):\n\n"
      ]
    },
    {
      "cell_type": "code",
      "execution_count": null,
      "metadata": {
        "collapsed": false
      },
      "outputs": [],
      "source": [
        "# import os\n# import reda.plotters.histograms as redahist\n\n# if not os.path.isdir('hists_raw'):\n#     os.makedirs('hists_raw')\n\n# # plot histograms for all frequencies\n# r = redahist.plot_histograms_extra_dims(\n#     seit.data, ['R', 'rpha'], ['frequency']\n# )\n# for f in sorted(r.keys()):\n#     r[f]['all'].savefig('hists_raw/hist_raw_f_{0}.png'.format(f), dpi=300)\n\n# if not os.path.isdir('hists_filtered'):\n#     os.makedirs('hists_filtered')\n\n# r = redahist.plot_histograms_extra_dims(\n#     seit.data, ['R', 'rpha'], ['frequency']\n# )\n\n# for f in sorted(r.keys()):\n#     r[f]['all'].savefig(\n#         'hists_filtered/hist_filtered_f_{0}.png'.format(f), dpi=300\n#     )"
      ]
    },
    {
      "cell_type": "markdown",
      "metadata": {},
      "source": [
        "Now export the data to CRTomo-compatible files\n\n"
      ]
    },
    {
      "cell_type": "code",
      "execution_count": null,
      "metadata": {
        "collapsed": false
      },
      "outputs": [],
      "source": [
        "import reda.exporters.crtomo as redaex\nredaex.write_files_to_directory(seit.data, 'crt_results', norrec='nor', )"
      ]
    },
    {
      "cell_type": "markdown",
      "metadata": {},
      "source": [
        "Plot pseudosections of all frequencies\n\n"
      ]
    },
    {
      "cell_type": "code",
      "execution_count": null,
      "metadata": {
        "collapsed": false
      },
      "outputs": [],
      "source": [
        "import reda.plotters.pseudoplots as PS\nimport pylab as plt\n\ng = seit.data.groupby('frequency')\nfig, axes = plt.subplots(\n    4, 2,\n    figsize=(15 / 2.54, 20 / 2.54),\n    sharex=True, sharey=True\n)\nfor ax, (key, item) in zip(axes.flat, g):\n    fig, ax, cb = PS.plot_pseudosection_type2(item, ax=ax, column='r')\n    ax.set_title('f: {} Hz'.format(key))\nfig.tight_layout()\nfig.savefig('pseudosections_eit40.pdf')"
      ]
    }
  ],
  "metadata": {
    "kernelspec": {
      "display_name": "Python 3",
      "language": "python",
      "name": "python3"
    },
    "language_info": {
      "codemirror_mode": {
        "name": "ipython",
        "version": 3
      },
      "file_extension": ".py",
      "mimetype": "text/x-python",
      "name": "python",
      "nbconvert_exporter": "python",
      "pygments_lexer": "ipython3",
      "version": "3.6.3"
    }
  },
  "nbformat": 4,
  "nbformat_minor": 0
}