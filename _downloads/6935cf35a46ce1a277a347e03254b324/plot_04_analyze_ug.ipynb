{
  "cells": [
    {
      "cell_type": "code",
      "execution_count": null,
      "metadata": {
        "collapsed": false
      },
      "outputs": [],
      "source": [
        "%matplotlib inline"
      ]
    },
    {
      "cell_type": "markdown",
      "metadata": {},
      "source": [
        "\nEIT-FZJ: Analyze DC voltages at electrodes during injections\n------------------------------------------------------------\n"
      ]
    },
    {
      "cell_type": "code",
      "execution_count": null,
      "metadata": {
        "collapsed": false
      },
      "outputs": [],
      "source": [
        "import matplotlib.pylab as plt\nimport reda.importers.eit_fzj as eit_fzj\n\nadc_data = eit_fzj.get_adc_data('data_eit_fzj_2013_ug/eit_data_mnu0.mat')\n\nfrequencies = list(adc_data.swaplevel(0, 2).groupby('frequency').groups.keys())\n# frequency to plot\nfrequency = frequencies[1]\n\nfig, ax = plt.subplots(\n    1, 1, figsize=(20 / 2.54, 25 / 2.54),\n    sharex=True, sharey=True)\n\n\nsubdata = adc_data.swaplevel(0, 2).loc[frequency]\n# import IPython\n# IPython.embed()\n# exit()\nim = ax.imshow(\n    subdata.swaplevel(0, 1, axis=1)['Ug3_1'].values,\n    interpolation=None,\n)\nax.set_aspect('auto')\n\nax.set_yticks(list(range(subdata.index.shape[0])))\nax.set_yticklabels(subdata.index.values)\n\ncb = fig.colorbar(im, ax=ax)\ncb.set_label(r'Ug [V]')\n# ax.set_ylim(0, 10)\n\nax.set_title('Ug3-1 for {} Hz'.format(frequency))\nax.set_ylabel('injection number')\n\nax.set_xlabel('ADC Channel')\n\nfig.tight_layout()\n# fig.savefig('plot_ug3-1.pdf', dpi=300)"
      ]
    }
  ],
  "metadata": {
    "kernelspec": {
      "display_name": "Python 3",
      "language": "python",
      "name": "python3"
    },
    "language_info": {
      "codemirror_mode": {
        "name": "ipython",
        "version": 3
      },
      "file_extension": ".py",
      "mimetype": "text/x-python",
      "name": "python",
      "nbconvert_exporter": "python",
      "pygments_lexer": "ipython3",
      "version": "3.7.1"
    }
  },
  "nbformat": 4,
  "nbformat_minor": 0
}