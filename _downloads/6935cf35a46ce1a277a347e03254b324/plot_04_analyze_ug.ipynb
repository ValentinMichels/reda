{
  "cells": [
    {
      "cell_type": "code",
      "execution_count": null,
      "metadata": {
        "collapsed": false
      },
      "outputs": [],
      "source": [
        "%matplotlib inline"
      ]
    },
    {
      "cell_type": "markdown",
      "metadata": {},
      "source": [
        "\nEIT-FZJ: Analyze DC voltages at electrodes during injections\n------------------------------------------------------------\n"
      ]
    },
    {
      "cell_type": "code",
      "execution_count": null,
      "metadata": {
        "collapsed": false
      },
      "outputs": [],
      "source": [
        "import matplotlib.pylab as plt\nimport reda.importers.eit_fzj as eit_fzj\n\nadc_data = eit_fzj.get_adc_data('data_eit_fzj_2013_ug/eit_data_mnu0.mat')\n\nfrequencies = list(adc_data.swaplevel(0, 2).groupby('frequency').groups.keys())\n\nfig, axes = plt.subplots(\n    len(frequencies), 1, figsize=(20 / 2.54, 100 / 2.54),\n    sharex=True, sharey=True)\n\nfor nr, frequency in enumerate(frequencies):\n    ax = axes[nr]\n    im = ax.imshow(\n        adc_data.swaplevel(\n            0, 1, axis=1\n        ).swaplevel(0, 2, axis=0)['Ug3_1'].loc[frequency].values)\n    ax.set_aspect('auto')\n    cb = fig.colorbar(im, ax=ax)\n    cb.set_label(r'Ug [V]')\n\nfor ax in axes[:]:\n    ax.set_ylabel('injection number')\n\naxes[-1].set_xlabel('ADC Channel')\n\nfig.tight_layout()\n# fig.savefig('plot_ug3-1.pdf', dpi=300)\nplt.show(fig)"
      ]
    }
  ],
  "metadata": {
    "kernelspec": {
      "display_name": "Python 3",
      "language": "python",
      "name": "python3"
    },
    "language_info": {
      "codemirror_mode": {
        "name": "ipython",
        "version": 3
      },
      "file_extension": ".py",
      "mimetype": "text/x-python",
      "name": "python",
      "nbconvert_exporter": "python",
      "pygments_lexer": "ipython3",
      "version": "3.7.1"
    }
  },
  "nbformat": 4,
  "nbformat_minor": 0
}